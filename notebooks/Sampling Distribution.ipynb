{
 "cells": [
  {
   "cell_type": "code",
   "execution_count": 2,
   "metadata": {
    "collapsed": true
   },
   "outputs": [],
   "source": [
    "import pandas as pd\n",
    "import numpy as np\n",
    "from scipy.stats import trim_mean\n",
    "import os\n",
    "from IPython.display import display, HTML\n",
    "import matplotlib.pyplot as plt"
   ]
  },
  {
   "cell_type": "code",
   "execution_count": 3,
   "metadata": {
    "collapsed": true
   },
   "outputs": [],
   "source": [
    "project_root = os.path.abspath(os.pardir)\n",
    "data_loc = os.path.join(project_root, 'data')\n",
    "raw_data_loc = os.path.join(data_loc, 'raw')\n",
    "loan_data = os.path.join(raw_data_loc, 'loans_income.csv')"
   ]
  },
  {
   "cell_type": "code",
   "execution_count": 4,
   "metadata": {
    "collapsed": false
   },
   "outputs": [
    {
     "data": {
      "text/html": [
       "<div>\n",
       "<table border=\"1\" class=\"dataframe\">\n",
       "  <thead>\n",
       "    <tr style=\"text-align: right;\">\n",
       "      <th></th>\n",
       "      <th>x</th>\n",
       "    </tr>\n",
       "  </thead>\n",
       "  <tbody>\n",
       "    <tr>\n",
       "      <th>count</th>\n",
       "      <td>50000.00000</td>\n",
       "    </tr>\n",
       "    <tr>\n",
       "      <th>mean</th>\n",
       "      <td>68760.51844</td>\n",
       "    </tr>\n",
       "    <tr>\n",
       "      <th>std</th>\n",
       "      <td>32872.03537</td>\n",
       "    </tr>\n",
       "    <tr>\n",
       "      <th>min</th>\n",
       "      <td>4000.00000</td>\n",
       "    </tr>\n",
       "    <tr>\n",
       "      <th>25%</th>\n",
       "      <td>45000.00000</td>\n",
       "    </tr>\n",
       "    <tr>\n",
       "      <th>50%</th>\n",
       "      <td>62000.00000</td>\n",
       "    </tr>\n",
       "    <tr>\n",
       "      <th>75%</th>\n",
       "      <td>85000.00000</td>\n",
       "    </tr>\n",
       "    <tr>\n",
       "      <th>max</th>\n",
       "      <td>199000.00000</td>\n",
       "    </tr>\n",
       "  </tbody>\n",
       "</table>\n",
       "</div>"
      ],
      "text/plain": [
       "                  x\n",
       "count   50000.00000\n",
       "mean    68760.51844\n",
       "std     32872.03537\n",
       "min      4000.00000\n",
       "25%     45000.00000\n",
       "50%     62000.00000\n",
       "75%     85000.00000\n",
       "max    199000.00000"
      ]
     },
     "execution_count": 4,
     "metadata": {},
     "output_type": "execute_result"
    }
   ],
   "source": [
    "loan_income_df = pd.read_csv(loan_data)\n",
    "loan_income_df.describe()"
   ]
  },
  {
   "cell_type": "code",
   "execution_count": 5,
   "metadata": {
    "collapsed": false
   },
   "outputs": [
    {
     "data": {
      "text/html": [
       "<div>\n",
       "<table border=\"1\" class=\"dataframe\">\n",
       "  <thead>\n",
       "    <tr style=\"text-align: right;\">\n",
       "      <th></th>\n",
       "      <th>x</th>\n",
       "    </tr>\n",
       "  </thead>\n",
       "  <tbody>\n",
       "    <tr>\n",
       "      <th>0</th>\n",
       "      <td>67000</td>\n",
       "    </tr>\n",
       "    <tr>\n",
       "      <th>1</th>\n",
       "      <td>52000</td>\n",
       "    </tr>\n",
       "    <tr>\n",
       "      <th>2</th>\n",
       "      <td>100000</td>\n",
       "    </tr>\n",
       "    <tr>\n",
       "      <th>3</th>\n",
       "      <td>78762</td>\n",
       "    </tr>\n",
       "    <tr>\n",
       "      <th>4</th>\n",
       "      <td>37041</td>\n",
       "    </tr>\n",
       "  </tbody>\n",
       "</table>\n",
       "</div>"
      ],
      "text/plain": [
       "        x\n",
       "0   67000\n",
       "1   52000\n",
       "2  100000\n",
       "3   78762\n",
       "4   37041"
      ]
     },
     "execution_count": 5,
     "metadata": {},
     "output_type": "execute_result"
    }
   ],
   "source": [
    "loan_income_df.head()"
   ]
  },
  {
   "cell_type": "markdown",
   "metadata": {},
   "source": [
    "# Sampling Data"
   ]
  },
  {
   "cell_type": "code",
   "execution_count": 6,
   "metadata": {
    "collapsed": false
   },
   "outputs": [
    {
     "data": {
      "image/png": "[encoded data removed]",
      "text/plain": [
       "<matplotlib.figure.Figure at 0x10ecfe940>"
      ]
     },
     "metadata": {},
     "output_type": "display_data"
    }
   ],
   "source": [
    "# Page 54 - 55\n",
    "%matplotlib inline\n",
    "loan_income_sample_1k_df = loan_income_df.sample(1000, random_state=np.random.RandomState())\n",
    "loan_income_sample_1k_df.plot(kind='hist', edgecolor='black', bins=40);"
   ]
  },
  {
   "cell_type": "code",
   "execution_count": 7,
   "metadata": {
    "collapsed": false
   },
   "outputs": [
    {
     "data": {
      "image/png": "[encoded data removed]",
      "text/plain": [
       "<matplotlib.figure.Figure at 0x112b23d30>"
      ]
     },
     "metadata": {},
     "output_type": "display_data"
    }
   ],
   "source": [
    "# This a 1000 mean calculations from 1000 random sample of 5 values\n",
    "loan_income_mean_of_5 = [loan_income_df.sample(5) for i in range(1000)]\n",
    "loan_income_mean_of_5_df = pd.concat(loan_income_mean_of_5)\n",
    "loan_income_mean_of_5_df.plot(kind='hist', edgecolor='black', bins=40);"
   ]
  },
  {
   "cell_type": "code",
   "execution_count": 8,
   "metadata": {
    "collapsed": false
   },
   "outputs": [
    {
     "data": {
      "image/png": "[encoded data removed]",
      "text/plain": [
       "<matplotlib.figure.Figure at 0x112f9dfd0>"
      ]
     },
     "metadata": {},
     "output_type": "display_data"
    }
   ],
   "source": [
    "# This a 1000 mean calculations from 1000 random samples of 20 values\n",
    "loan_income_mean_of_20 = [loan_income_df.sample(20) for i in range(1000)]\n",
    "loan_income_mean_of_20_df = pd.concat(loan_income_mean_of_20)\n",
    "loan_income_mean_of_20_df.plot(kind='hist', edgecolor='black', bins=40);"
   ]
  },
  {
   "cell_type": "markdown",
   "metadata": {
    "collapsed": true
   },
   "source": [
    "# Bootstrap Thoery\n",
    "pg.58"
   ]
  },
  {
   "cell_type": "code",
   "execution_count": 14,
   "metadata": {
    "collapsed": false
   },
   "outputs": [
    {
     "data": {
      "image/png": "[encoded data removed]",
      "text/plain": [
       "<matplotlib.figure.Figure at 0x112e0a438>"
      ]
     },
     "metadata": {},
     "output_type": "display_data"
    }
   ],
   "source": [
    "# Boot strap the income of people taking out loans where x is the income column\n",
    "#Manual attempt, not sure this is right...\n",
    "def bootstrapify(df, size, r):\n",
    "    results = []\n",
    "    for i in range(r):\n",
    "        loan_sample = df.x.sample(n=size, replace=True, random_state=np.random.RandomState()).median()\n",
    "        results.append(loan_sample)\n",
    "    \n",
    "    return pd.DataFrame(results)\n",
    "\n",
    "loan_bootstrap = bootstrapify(loan_income_df, 1000, 1000)\n",
    "loan_bootstrap.plot(kind='hist', bins=40, edgecolor='black');"
   ]
  },
  {
   "cell_type": "code",
   "execution_count": 17,
   "metadata": {
    "collapsed": false
   },
   "outputs": [
    {
     "data": {
      "image/png": "[encoded data removed]",
      "text/plain": [
       "<matplotlib.figure.Figure at 0x113124b00>"
      ]
     },
     "metadata": {},
     "output_type": "display_data"
    }
   ],
   "source": [
    "# Using Skikitlearn\n",
    "# Right now this doesn't work\n",
    "from sklearn.utils import resample\n",
    "\n",
    "def bootstrapify2(df, size, r):\n",
    "    results = []\n",
    "    for i in range(r):\n",
    "        loan_sample = pd.DataFrame(resample(df.x, replace=True, n_samples=size, random_state=1)).median()\n",
    "        results.append(loan_sample)\n",
    "        \n",
    "    return pd.DataFrame(results)\n",
    "\n",
    "\n",
    "loan_bootstrap_2_df = bootstrapify2(loan_income_df, 1000, 1000)\n",
    "loan_bootstrap_2_df.plot(kind='hist', bins=40, edgecolor='black');"
   ]
  },
  {
   "cell_type": "markdown",
   "metadata": {},
   "source": [
    "# Standard Normal and QQ Plots\n",
    "Pg. 66"
   ]
  },
  {
   "cell_type": "code",
   "execution_count": 30,
   "metadata": {
    "collapsed": false
   },
   "outputs": [
    {
     "data": {
      "image/png": "[encoded data removed]",
      "text/plain": [
       "<matplotlib.figure.Figure at 0x113bd5630>"
      ]
     },
     "metadata": {},
     "output_type": "display_data"
    }
   ],
   "source": [
    "# Python equivalent of rnorm(100)\n",
    "import statsmodels.api as sm\n",
    "\n",
    "norm_sample = np.random.normal(size=100)\n",
    "# Using a data fram is over kill...but likely the way I will be accessing data\n",
    "norm_sample_df = pd.DataFrame(norm_sample)\n",
    "sm.qqplot(norm_sample_df[0], line='45');"
   ]
  },
  {
   "cell_type": "markdown",
   "metadata": {},
   "source": [
    "# Binomial Distribution\n",
    "Pg. 73"
   ]
  },
  {
   "cell_type": "code",
   "execution_count": 34,
   "metadata": {
    "collapsed": false
   },
   "outputs": [
    {
     "name": "stdout",
     "output_type": "stream",
     "text": [
      "0.0729\n"
     ]
    }
   ],
   "source": [
    "# Python version of R dbinom\n",
    "from scipy.stats import binom\n",
    "# param x - The success, ie, the stat I am interested in.  \n",
    "# param n - The number of trials\n",
    "# param p - the probability of success\n",
    "binom_success = binom.pmf(2, n=5, p=0.1)\n",
    "print(binom_success)"
   ]
  },
  {
   "cell_type": "code",
   "execution_count": 35,
   "metadata": {
    "collapsed": false
   },
   "outputs": [
    {
     "name": "stdout",
     "output_type": "stream",
     "text": [
      "0.99144\n"
     ]
    }
   ],
   "source": [
    "# Pg. 74 python version of R pbinom \n",
    "binom_success_2 = binom.cdf(2, n=5, p=0.1)\n",
    "print(binom_success_2)"
   ]
  },
  {
   "cell_type": "markdown",
   "metadata": {},
   "source": [
    "# Poisson Distribution\n",
    "Pg. 75"
   ]
  },
  {
   "cell_type": "code",
   "execution_count": 37,
   "metadata": {
    "collapsed": false
   },
   "outputs": [
    {
     "name": "stdout",
     "output_type": "stream",
     "text": [
      "[ 2  4  5  5  6  3  6  4  6  4  4  3  5  2  5  7  7  7  0  7  3  3  6  2  3\n",
      "  1  3  4  4  2  5  9  3  0  5  3  8  4  4  6  4  7  4  6  4  2  6  5 10  4\n",
      "  3  4  5  6 10  6  5  8  5  3  3  7  5  6  8  8  2  2  6  8  4  2  3  4  6\n",
      "  2  2  4  5  4  4  4  4  5  9  4  5  5  5  3  8  3  2  6  6  6  2  7  7  4]\n"
     ]
    }
   ],
   "source": [
    "# R rpois\n",
    "# Pg. 75\n",
    "randos_poisson = np.random.poisson(size=100, lam=2)\n",
    "print(randos_poisson)"
   ]
  },
  {
   "cell_type": "code",
   "execution_count": 40,
   "metadata": {
    "collapsed": false
   },
   "outputs": [
    {
     "name": "stdout",
     "output_type": "stream",
     "text": [
      "[ 0.09309301  0.25896959  0.46829635  0.60414365  0.19499258  0.19046952\n",
      "  0.07629192  0.10663592  0.14720287  0.01483934  0.14065187  0.32235186\n",
      "  0.18829936  0.68810235  0.32438743  0.2027522   0.29374843  0.05662107\n",
      "  0.00178487  0.25909626  0.2896252   0.11288215  0.05098581  0.21119139\n",
      "  0.04322895  0.16646091  0.06404714  0.01831873  0.23363187  0.01031856\n",
      "  0.09521581  0.13138807  0.07940293  0.1975128   0.72791924  0.02771077\n",
      "  0.22326394  0.01768207  0.053595    0.14063912  0.74759045  0.61723086\n",
      "  0.32119734  0.3120287   0.0183794   0.22654816  0.22459578  0.13598783\n",
      "  0.00627131  0.604802    0.41679016  0.1651057   0.22862981  0.05964382\n",
      "  0.17921997  0.01046205  0.06286418  0.05622262  0.54113386  0.54985035\n",
      "  0.24863341  0.00737223  0.08521386  0.01151593  0.0690659   0.03768028\n",
      "  0.50032297  0.31514155  0.32402799  0.26504365  0.26108191  0.24926999\n",
      "  0.51512999  0.02753241  0.00812835  0.08519225  0.38918847  0.00549593\n",
      "  0.58526236  0.78075737  0.20010509  0.0776794   0.3971381   0.00421877\n",
      "  0.00730301  0.09575616  0.34345093  0.04752942  0.02748269  0.10567381\n",
      "  0.16821488  0.19955673  0.32514042  0.076495    0.04127282  0.01913882\n",
      "  0.04076418  0.14914412  0.09619527  0.16760203]\n",
      "The mean value is: 0.203732236768845\n"
     ]
    }
   ],
   "source": [
    "# Exponential distribution Pg.76\n",
    "# in R rexp scale is called the rate\n",
    "randos_expon_dist = np.random.exponential(size=100, scale=0.2)\n",
    "print(randos_expon_dist)\n",
    "print('The mean value is: {0}'.format(np.mean(randos_expon_dist)))"
   ]
  },
  {
   "cell_type": "code",
   "execution_count": 45,
   "metadata": {
    "collapsed": false
   },
   "outputs": [
    {
     "name": "stdout",
     "output_type": "stream",
     "text": [
      "[2303.0156301417946, 3939.4446692053066, 1193.5443528493781, 1948.4100978527358, 5938.8781083892154, 9351.3678568567175, 2719.5927801167513, 3878.3700371154473, 3550.2287234460878, 3667.7469219543445, 4094.9536265566971, 817.16254290772167, 7946.1719421514872, 4560.8366770533758, 4034.5104429012295, 11578.849739943429, 3074.6870965852663, 8473.330839854716, 4907.5012582093177, 4798.2991551226323, 4820.9707911291225, 8050.6918405005054, 1999.7724195248459, 1003.4503099369865, 4979.6482864597283, 4273.83699378847, 3229.2728625049681, 9396.5297397789618, 785.72377536719262, 8216.1524149955512, 5859.0620590046137, 283.37390042892736, 5738.6691602980809, 5155.865495013808, 2381.9262817767394, 7048.9081132422052, 6714.6718298798323, 3479.9807083037481, 3806.5948982556924, 1193.4236299367781, 4282.465751361281, 3531.0444506093495, 1164.3614991437184, 9045.3298145991193, 5131.9882879811648, 6102.5792561702528, 5129.7599951556313, 2015.4143227829541, 3070.518972922594, 3888.0638601205574, 10894.77779757122, 6360.624646401212, 1078.8864223385519, 2521.623527868775, 7796.267143660456, 10104.374838011216, 12056.396079775837, 282.88818778449894, 7924.7671394800609, 456.02806111337242, 2430.4265532728882, 3853.8878616857446, 8997.9027531020911, 9607.3565807065534, 4865.3734999179733, 3910.4099577271872, 7577.0891088595363, 5463.4774959837241, 1496.6781173157513, 7208.5930243227494, 1311.52995663398, 2932.3461483462311, 7503.194532418177, 979.67615818343631, 787.96937485693331, 3580.6126075536276, 3407.3687854275677, 2535.4701338753616, 2373.7639480830467, 2599.5901546347873, 4558.8189946879029, 6723.4509848809466, 5907.0569364299608, 959.60830393954325, 4071.884352465539, 1498.7755887532001, 4611.8818270733618, 8583.0353405706246, 4623.5215250503834, 3663.6787073916589, 540.5156535309934, 3220.7224738196128, 4568.7690279992776, 5586.6827576669302, 9390.2959960119297, 5294.7883227558277, 2755.3534139216822, 3734.6245445725312, 3397.7775176242276, 3529.2986971777063]\n"
     ]
    }
   ],
   "source": [
    "# Weibull Distribution\n",
    "# Pg. 77\n",
    "# R rweibull(100, 1.5, 5000)\n",
    "from scipy.stats import weibull_min\n",
    "randos_weibull_dist = np.random.weibull(1.5, size=100)\n",
    "scaled_weibull_dist = [x  * 5000 for x in randos_weibull_dist]\n",
    "print(scaled_weibull_dist)"
   ]
  },
  {
   "cell_type": "code",
   "execution_count": 46,
   "metadata": {
    "collapsed": false
   },
   "outputs": [
    {
     "name": "stdout",
     "output_type": "stream",
     "text": [
      "[  6674.47936065   1325.97002275   1726.6641918    4995.71981591\n",
      "   7993.89387291   6963.68137277   2065.1195249    1606.32156414\n",
      "   2776.68291356  15538.26527852  12520.29370732   4300.49170913\n",
      "    825.7205553    5411.40756965   1627.37071314    364.78569266\n",
      "   2684.93887861   7646.19079277   2846.42132123   6474.8446128\n",
      "   4492.47411314   2331.668979     1815.29144929   2827.94023605\n",
      "    745.63406229   6192.1135554    8220.89945912   3457.53963868\n",
      "   2672.59590624   4970.42424761    954.0632652    3816.3071942\n",
      "   7916.04519006   4982.2402154    6103.10484734   2837.04425493\n",
      "   2828.36761023  17189.83641242   4515.35392064   2320.95583188\n",
      "   2541.53301893   6996.91553822   6563.0854452    3545.94201465\n",
      "   5077.01886654   4464.76430024    795.25318076   6187.87782758\n",
      "  12185.72457531   1998.8844004    6467.59741423   1300.41601158\n",
      "   1812.90010442    713.80953163   5920.31627309  12151.09828995\n",
      "   3365.163606     4755.4733571    5899.51045932  12747.50449741\n",
      "   1106.5400572    2140.03442464   3407.48668282   2701.4144906\n",
      "   1794.89261375   7189.93235462   1141.84986236   3462.1710395\n",
      "   2723.92117687   6129.37980988   4816.7226052    7282.42072397\n",
      "   1214.79644386   7559.84555064   3044.15845086   7745.15885554\n",
      "   5750.63417475    257.37725702   4013.0926186    7558.59736057\n",
      "    946.36209267   1667.92073461    920.35145178   1702.94315869\n",
      "   1905.46360801  11300.13221396    755.88720288   3005.02513141\n",
      "   2205.81563786   1163.58835128   1001.55993816   1676.5635133\n",
      "   3832.36681636   1783.67546648   5100.94504753   9698.05819102\n",
      "   3944.81805497   4262.16315319    891.56340462   4453.96032044]\n"
     ]
    }
   ],
   "source": [
    "# Alternatively, use the scipy weibull_min\n",
    "# R rweibull(100, 1.5, 5000)\n",
    "randos_weibull_min2 = weibull_min.rvs(1.5, scale=5000, size=100)\n",
    "print(randos_weibull_min2)"
   ]
  },
  {
   "cell_type": "code",
   "execution_count": null,
   "metadata": {
    "collapsed": true
   },
   "outputs": [],
   "source": []
  }
 ],
 "metadata": {
  "kernelspec": {
   "display_name": "Python 3",
   "language": "python",
   "name": "python3"
  },
  "language_info": {
   "codemirror_mode": {
    "name": "ipython",
    "version": 3
   },
   "file_extension": ".py",
   "mimetype": "text/x-python",
   "name": "python",
   "nbconvert_exporter": "python",
   "pygments_lexer": "ipython3",
   "version": "3.6.8"
  }
 },
 "nbformat": 4,
 "nbformat_minor": 2
}
