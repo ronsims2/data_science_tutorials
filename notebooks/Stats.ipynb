{
 "cells": [
  {
   "cell_type": "code",
   "execution_count": 17,
   "metadata": {
    "collapsed": false
   },
   "outputs": [],
   "source": [
    "import pandas as pd\n",
    "import numpy as np\n",
    "from scipy.stats import trim_mean\n",
    "import os\n",
    "from IPython.display import display, HTML\n",
    "import matplotlib.pyplot as plt"
   ]
  },
  {
   "cell_type": "code",
   "execution_count": 18,
   "metadata": {
    "collapsed": true
   },
   "outputs": [],
   "source": [
    "project_root = os.path.abspath(os.pardir)\n",
    "data_loc = os.path.join(project_root, 'data')\n",
    "raw_data_loc = os.path.join(data_loc, 'raw')\n",
    "state_data = os.path.join(raw_data_loc, 'state.csv')"
   ]
  },
  {
   "cell_type": "code",
   "execution_count": 19,
   "metadata": {
    "collapsed": false
   },
   "outputs": [
    {
     "data": {
      "text/html": [
       "<div>\n",
       "<table border=\"1\" class=\"dataframe\">\n",
       "  <thead>\n",
       "    <tr style=\"text-align: right;\">\n",
       "      <th></th>\n",
       "      <th>Population</th>\n",
       "      <th>Murder.Rate</th>\n",
       "    </tr>\n",
       "  </thead>\n",
       "  <tbody>\n",
       "    <tr>\n",
       "      <th>count</th>\n",
       "      <td>5.000000e+01</td>\n",
       "      <td>50.000000</td>\n",
       "    </tr>\n",
       "    <tr>\n",
       "      <th>mean</th>\n",
       "      <td>6.162876e+06</td>\n",
       "      <td>4.066000</td>\n",
       "    </tr>\n",
       "    <tr>\n",
       "      <th>std</th>\n",
       "      <td>6.848235e+06</td>\n",
       "      <td>1.915736</td>\n",
       "    </tr>\n",
       "    <tr>\n",
       "      <th>min</th>\n",
       "      <td>5.636260e+05</td>\n",
       "      <td>0.900000</td>\n",
       "    </tr>\n",
       "    <tr>\n",
       "      <th>25%</th>\n",
       "      <td>1.833004e+06</td>\n",
       "      <td>2.425000</td>\n",
       "    </tr>\n",
       "    <tr>\n",
       "      <th>50%</th>\n",
       "      <td>4.436370e+06</td>\n",
       "      <td>4.000000</td>\n",
       "    </tr>\n",
       "    <tr>\n",
       "      <th>75%</th>\n",
       "      <td>6.680312e+06</td>\n",
       "      <td>5.550000</td>\n",
       "    </tr>\n",
       "    <tr>\n",
       "      <th>max</th>\n",
       "      <td>3.725396e+07</td>\n",
       "      <td>10.300000</td>\n",
       "    </tr>\n",
       "  </tbody>\n",
       "</table>\n",
       "</div>"
      ],
      "text/plain": [
       "         Population  Murder.Rate\n",
       "count  5.000000e+01    50.000000\n",
       "mean   6.162876e+06     4.066000\n",
       "std    6.848235e+06     1.915736\n",
       "min    5.636260e+05     0.900000\n",
       "25%    1.833004e+06     2.425000\n",
       "50%    4.436370e+06     4.000000\n",
       "75%    6.680312e+06     5.550000\n",
       "max    3.725396e+07    10.300000"
      ]
     },
     "execution_count": 19,
     "metadata": {},
     "output_type": "execute_result"
    }
   ],
   "source": [
    "df = pd.read_csv(state_data)\n",
    "df.describe()"
   ]
  },
  {
   "cell_type": "code",
   "execution_count": 20,
   "metadata": {
    "collapsed": false
   },
   "outputs": [
    {
     "name": "stdout",
     "output_type": "stream",
     "text": [
      "Mean Population: 6162876.3\n"
     ]
    }
   ],
   "source": [
    "# Page 12 Compute the mean, trimmed mean and media population\n",
    "pop_mean = df.Population.mean()\n",
    "print('Mean Population: {0}'.format(pop_mean))"
   ]
  },
  {
   "cell_type": "code",
   "execution_count": 21,
   "metadata": {
    "collapsed": false
   },
   "outputs": [
    {
     "name": "stdout",
     "output_type": "stream",
     "text": [
      "Median Population: 4436369.5\n"
     ]
    }
   ],
   "source": [
    "pop_median = df.Population.median()\n",
    "print('Median Population: {0}'.format(pop_median))"
   ]
  },
  {
   "cell_type": "code",
   "execution_count": 22,
   "metadata": {
    "collapsed": false
   },
   "outputs": [
    {
     "name": "stdout",
     "output_type": "stream",
     "text": [
      "Trimmed mean: 4783697.125\n"
     ]
    }
   ],
   "source": [
    "# Pandas cannot get you the trimmed mean, so use SciPy\n",
    "trimmed_mean = trim_mean(df.Population, 0.1)\n",
    "print('Trimmed mean: {0}'.format(trimmed_mean))"
   ]
  },
  {
   "cell_type": "code",
   "execution_count": 23,
   "metadata": {
    "collapsed": false
   },
   "outputs": [
    {
     "name": "stdout",
     "output_type": "stream",
     "text": [
      "Mean murder rate: 4.066\n",
      "Weighted median murder rate : 4.445833981123394\n"
     ]
    }
   ],
   "source": [
    "mr_mean = df['Murder.Rate'].mean()\n",
    "print('Mean murder rate: {0}'.format(mr_mean))\n",
    "\n",
    "def get_weighted_murder_rate(d):\n",
    "    return (d['Population'] * d['Murder.Rate']).sum()/d['Population'].sum()\n",
    "\n",
    "weighted_mean_mr = get_weighted_murder_rate(df)\n",
    "print('Weighted median murder rate : {0}'.format(weighted_mean_mr))"
   ]
  },
  {
   "cell_type": "code",
   "execution_count": 24,
   "metadata": {
    "collapsed": false
   },
   "outputs": [
    {
     "name": "stdout",
     "output_type": "stream",
     "text": [
      "Standard Deviantion: 6848235.347401142\n"
     ]
    }
   ],
   "source": [
    "# Page 18 Variability\n",
    "# Standard deviation\n",
    "standard_dev = df.Population.std()\n",
    "print('Standard Deviantion: {0}'.format(standard_dev))"
   ]
  },
  {
   "cell_type": "code",
   "execution_count": 25,
   "metadata": {
    "collapsed": false
   },
   "outputs": [
    {
     "name": "stdout",
     "output_type": "stream",
     "text": [
      "Interquartile Range: 4847308.0\n"
     ]
    }
   ],
   "source": [
    "# Interquartile Range (IQR)\n",
    "iqr = df.Population.quantile(0.75) - df.Population.quantile(0.25)\n",
    "print('Interquartile Range: {0}'.format(iqr))"
   ]
  },
  {
   "cell_type": "code",
   "execution_count": 26,
   "metadata": {
    "collapsed": false
   },
   "outputs": [
    {
     "name": "stdout",
     "output_type": "stream",
     "text": [
      "Median Absolute Deviation from the Median: <bound method NDFrame._add_numeric_operations.<locals>.mad of 0      4779736\n",
      "1       710231\n",
      "2      6392017\n",
      "3      2915918\n",
      "4     37253956\n",
      "5      5029196\n",
      "6      3574097\n",
      "7       897934\n",
      "8     18801310\n",
      "9      9687653\n",
      "10     1360301\n",
      "11     1567582\n",
      "12    12830632\n",
      "13     6483802\n",
      "14     3046355\n",
      "15     2853118\n",
      "16     4339367\n",
      "17     4533372\n",
      "18     1328361\n",
      "19     5773552\n",
      "20     6547629\n",
      "21     9883640\n",
      "22     5303925\n",
      "23     2967297\n",
      "24     5988927\n",
      "25      989415\n",
      "26     1826341\n",
      "27     2700551\n",
      "28     1316470\n",
      "29     8791894\n",
      "30     2059179\n",
      "31    19378102\n",
      "32     9535483\n",
      "33      672591\n",
      "34    11536504\n",
      "35     3751351\n",
      "36     3831074\n",
      "37    12702379\n",
      "38     1052567\n",
      "39     4625364\n",
      "40      814180\n",
      "41     6346105\n",
      "42    25145561\n",
      "43     2763885\n",
      "44      625741\n",
      "45     8001024\n",
      "46     6724540\n",
      "47     1852994\n",
      "48     5686986\n",
      "49      563626\n",
      "Name: Population, dtype: int64>\n"
     ]
    }
   ],
   "source": [
    "#Median Absolute Deviation from the median (MAD)\n",
    "mad = df.Population.mad\n",
    "# @todo - Scale seems different than R (3849870)\n",
    "print('Median Absolute Deviation from the Median: {0}'.format(mad))"
   ]
  },
  {
   "cell_type": "code",
   "execution_count": 27,
   "metadata": {
    "collapsed": false
   },
   "outputs": [
    {
     "data": {
      "image/png": "[encoded data removed]",
      "text/plain": [
       "<matplotlib.figure.Figure at 0x1168adc18>"
      ]
     },
     "metadata": {},
     "output_type": "display_data"
    }
   ],
   "source": [
    "# Box Plot Pg. 21\n",
    "%matplotlib inline\n",
    "df.boxplot('Population');"
   ]
  },
  {
   "cell_type": "code",
   "execution_count": 28,
   "metadata": {
    "collapsed": false
   },
   "outputs": [
    {
     "data": {
      "text/html": [
       "<div>\n",
       "<table border=\"1\" class=\"dataframe\">\n",
       "  <thead>\n",
       "    <tr style=\"text-align: right;\">\n",
       "      <th></th>\n",
       "      <th>State</th>\n",
       "    </tr>\n",
       "    <tr>\n",
       "      <th>Population.Range</th>\n",
       "      <th></th>\n",
       "    </tr>\n",
       "  </thead>\n",
       "  <tbody>\n",
       "    <tr>\n",
       "      <th>[526935.67, 4232659]</th>\n",
       "      <td>([Alaska, Arkansas, Connecticut, Delaware, Haw...</td>\n",
       "    </tr>\n",
       "    <tr>\n",
       "      <th>(4232659, 7901692]</th>\n",
       "      <td>([Alabama, Arizona, Colorado, Indiana, Kentuck...</td>\n",
       "    </tr>\n",
       "    <tr>\n",
       "      <th>(7901692, 11570725]</th>\n",
       "      <td>([Georgia, Michigan, New Jersey, North Carolin...</td>\n",
       "    </tr>\n",
       "    <tr>\n",
       "      <th>(11570725, 15239758]</th>\n",
       "      <td>([Illinois, Pennsylvania], 2)</td>\n",
       "    </tr>\n",
       "    <tr>\n",
       "      <th>(15239758, 18908791]</th>\n",
       "      <td>([Florida], 1)</td>\n",
       "    </tr>\n",
       "    <tr>\n",
       "      <th>(18908791, 22577824]</th>\n",
       "      <td>([New York], 1)</td>\n",
       "    </tr>\n",
       "    <tr>\n",
       "      <th>(22577824, 26246857]</th>\n",
       "      <td>([Texas], 1)</td>\n",
       "    </tr>\n",
       "    <tr>\n",
       "      <th>(26246857, 29915890]</th>\n",
       "      <td>([], 0)</td>\n",
       "    </tr>\n",
       "    <tr>\n",
       "      <th>(29915890, 33584923]</th>\n",
       "      <td>([], 0)</td>\n",
       "    </tr>\n",
       "    <tr>\n",
       "      <th>(33584923, 37253956]</th>\n",
       "      <td>([California], 1)</td>\n",
       "    </tr>\n",
       "  </tbody>\n",
       "</table>\n",
       "</div>"
      ],
      "text/plain": [
       "                                                                  State\n",
       "Population.Range                                                       \n",
       "[526935.67, 4232659]  ([Alaska, Arkansas, Connecticut, Delaware, Haw...\n",
       "(4232659, 7901692]    ([Alabama, Arizona, Colorado, Indiana, Kentuck...\n",
       "(7901692, 11570725]   ([Georgia, Michigan, New Jersey, North Carolin...\n",
       "(11570725, 15239758]                      ([Illinois, Pennsylvania], 2)\n",
       "(15239758, 18908791]                                     ([Florida], 1)\n",
       "(18908791, 22577824]                                    ([New York], 1)\n",
       "(22577824, 26246857]                                       ([Texas], 1)\n",
       "(26246857, 29915890]                                            ([], 0)\n",
       "(29915890, 33584923]                                            ([], 0)\n",
       "(33584923, 37253956]                                  ([California], 1)"
      ]
     },
     "execution_count": 28,
     "metadata": {},
     "output_type": "execute_result"
    }
   ],
   "source": [
    "# Frequency table Pg. 21\n",
    "pop_freq = pd.cut(\n",
    "    df.Population, \n",
    "    bins=10, \n",
    "    retbins=True, \n",
    "    include_lowest=True, \n",
    "    right=True)\n",
    "\n",
    "df['Population.Range'] = pop_freq[0]\n",
    "pop_group = df.groupby('Population.Range').State.apply(lambda x: (x.get_values(), x.count()))\n",
    "pop_group.to_frame()"
   ]
  },
  {
   "cell_type": "code",
   "execution_count": 29,
   "metadata": {
    "collapsed": false
   },
   "outputs": [
    {
     "data": {
      "image/png": "[encoded data removed]",
      "text/plain": [
       "<matplotlib.figure.Figure at 0x116c06160>"
      ]
     },
     "metadata": {},
     "output_type": "display_data"
    }
   ],
   "source": [
    "# Histogram Pg. 23\n",
    "df.Population.plot(kind='hist');"
   ]
  },
  {
   "cell_type": "code",
   "execution_count": 76,
   "metadata": {
    "collapsed": false
   },
   "outputs": [
    {
     "data": {
      "image/png": "[encoded data removed]",
      "text/plain": [
       "<matplotlib.figure.Figure at 0x117d315f8>"
      ]
     },
     "metadata": {},
     "output_type": "display_data"
    }
   ],
   "source": [
    "# Density Plot Pg. 24\n",
    "# Working with multiple axes\n",
    "# I spent a lot of time trying ot set the \"density\" and I needed the normed param...\n",
    "# My matplotlib or pnada might be out of date bc normed is depricated and density should be used!!!\n",
    "df['Murder.Rate'].plot(kind='hist', color='steelblue', edgecolor='black', normed=True);\n",
    "df['Murder.Rate'].plot(kind='kde', color='red');"
   ]
  },
  {
   "cell_type": "code",
   "execution_count": null,
   "metadata": {
    "collapsed": true
   },
   "outputs": [],
   "source": []
  },
  {
   "cell_type": "code",
   "execution_count": null,
   "metadata": {
    "collapsed": true
   },
   "outputs": [],
   "source": []
  }
 ],
 "metadata": {
  "kernelspec": {
   "display_name": "Python 3",
   "language": "python",
   "name": "python3"
  },
  "language_info": {
   "codemirror_mode": {
    "name": "ipython",
    "version": 3
   },
   "file_extension": ".py",
   "mimetype": "text/x-python",
   "name": "python",
   "nbconvert_exporter": "python",
   "pygments_lexer": "ipython3",
   "version": "3.6.8"
  }
 },
 "nbformat": 4,
 "nbformat_minor": 2
}
